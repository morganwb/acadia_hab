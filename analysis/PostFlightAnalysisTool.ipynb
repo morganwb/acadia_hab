{
 "cells": [
  {
   "cell_type": "markdown",
   "metadata": {},
   "source": [
    "# Acadia Data Analysis Tool"
   ]
  },
  {
   "cell_type": "code",
   "execution_count": 1,
   "metadata": {},
   "outputs": [
    {
     "data": {
      "text/plain": [
       "<Figure size 640x480 with 1 Axes>"
      ]
     },
     "metadata": {},
     "output_type": "display_data"
    },
    {
     "data": {
      "text/plain": [
       "<Figure size 640x480 with 1 Axes>"
      ]
     },
     "metadata": {},
     "output_type": "display_data"
    },
    {
     "data": {
      "text/plain": [
       "<Figure size 640x480 with 1 Axes>"
      ]
     },
     "metadata": {},
     "output_type": "display_data"
    },
    {
     "data": {
      "text/plain": [
       "<Figure size 640x480 with 1 Axes>"
      ]
     },
     "metadata": {},
     "output_type": "display_data"
    },
    {
     "data": {
      "text/plain": [
       "<Figure size 640x480 with 1 Axes>"
      ]
     },
     "metadata": {},
     "output_type": "display_data"
    },
    {
     "data": {
      "text/plain": [
       "<Figure size 640x480 with 1 Axes>"
      ]
     },
     "metadata": {},
     "output_type": "display_data"
    },
    {
     "data": {
      "text/plain": [
       "<Figure size 640x480 with 1 Axes>"
      ]
     },
     "metadata": {},
     "output_type": "display_data"
    }
   ],
   "source": [
    "import numpy as np\n",
    "import matplotlib.pyplot as plt\n",
    "\n",
    "\n",
    "fh = open(\"testdata.txt\", 'r')\n",
    "datastr = fh.read().replace(\" \", '').replace(\"[\", '').replace(\"]\", '').replace(\"(\", '').replace(\")\", '').replace(\"'\", '').split(\"\\n\")\n",
    "\n",
    "dataList = []\n",
    "for entry in datastr:\n",
    "    entryList = entry.split(\",\")\n",
    "    if len(entryList) == 16:\n",
    "        dataList.append(entryList)\n",
    "\n",
    "   \n",
    "npData = np.array(dataList)\n",
    "\n",
    "dataDict = {}\n",
    "dataDict[\"BMP380 Temperature (C)\"] = []\n",
    "dataDict[\"BMP380 Pressure (hPa)\"] = []\n",
    "dataDict[\"BMP380 Altitude (Meters)\"] = []\n",
    "dataDict[\"SHT31D Relative Humidity (%)\"] = []\n",
    "dataDict[\"LIS3MDL Magnetic Field (unit unknown)\"] = []\n",
    "dataDict[\"LSM6DS33 Acceleration (m/s^2)\"] = []\n",
    "dataDict[\"LSM6DS33 Gryoscope (unit unknown)\"] = []\n",
    "dataDict[\"GPS Latitude/Longitude\"] = []\n",
    "dataDict[\"GPS altituede (m)\"] = []\n",
    "\n",
    "for entry in dataList:\n",
    "    dataDict[\"BMP380 Temperature (C)\"].append(float(entry[0]))\n",
    "    dataDict[\"BMP380 Pressure (hPa)\"].append(float(entry[1]))\n",
    "    dataDict[\"BMP380 Altitude (Meters)\"].append(float(entry[2]))\n",
    "    dataDict[\"SHT31D Relative Humidity (%)\"].append(float(entry[3]))\n",
    "    dataDict[\"LIS3MDL Magnetic Field (unit unknown)\"].append((float(entry[4]), float(entry[5]), float(entry[6])))\n",
    "    dataDict[\"LSM6DS33 Acceleration (m/s^2)\"].append((float(entry[7]), float(entry[8]), float(entry[9])))\n",
    "    dataDict[\"LSM6DS33 Gryoscope (unit unknown)\"].append((float(entry[10]), float(entry[11]), float(entry[12])))\n",
    "    dataDict[\"GPS Latitude/Longitude\"].append((float(entry[13]), float(entry[14])))\n",
    "    dataDict[\"GPS altituede (m)\"].append(float(entry[15]))\n",
    "    #dataDict[\"BME380 Temperature (C)\"] = entry[0]\n",
    "    #dataDict[\"BME380 Temperature (C)\"] = entry[0]\n",
    "    #dataDict[\"BME380 Temperature (C)\"] = entry[0]\n",
    "    #dataDict[\"BME380 Temperature (C)\"] = entry[0]\n",
    "\n",
    "indices = [0, 1, 2, 3, 13, 14, 15]\n",
    "time = np.linspace(0, 1435, 287)\n",
    "label = [\"Temperature (c)\", \"Pressure (hPa)\", \"Altitude (m)\", \"Humidity (%)\", \"Latitude\", \"Longitude\", \"Altitude (m)\"]\n",
    "i = 0\n",
    "for index in indices:\n",
    "    plt.plot(time, npData[:, index])\n",
    "    #plt.savefig(label[i] + \"_plt.png\")\n",
    "    i += 1\n",
    "    plt.show()\n",
    "    "
   ]
  },
  {
   "cell_type": "code",
   "execution_count": null,
   "metadata": {},
   "outputs": [],
   "source": []
  }
 ],
 "metadata": {
  "kernelspec": {
   "display_name": "Python 3",
   "language": "python",
   "name": "python3"
  },
  "language_info": {
   "codemirror_mode": {
    "name": "ipython",
    "version": 3
   },
   "file_extension": ".py",
   "mimetype": "text/x-python",
   "name": "python",
   "nbconvert_exporter": "python",
   "pygments_lexer": "ipython3",
   "version": "3.7.4"
  }
 },
 "nbformat": 4,
 "nbformat_minor": 2
}
