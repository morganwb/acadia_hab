{
 "cells": [
  {
   "cell_type": "markdown",
   "metadata": {},
   "source": [
    "# Acadia Flight Path Analysis Tool: A primer on mission planning"
   ]
  },
  {
   "cell_type": "markdown",
   "metadata": {},
   "source": [
    "## Introduction\n",
    "\n",
    "In planning a high altitude balloon launch, it is critical to have some understanding of the flight path. This is both in order to inform the FAA but also to anticipate landing locations. There are a variety of datapoints that are important to consider and are listed below:\n",
    "\n",
    " - Balloon Burst Altitude: The altitude at which the balloon bursts significantly affects the flight path. A burst at 10,000 meters will result in a significantly shorter flight (both in distance and time) than a burst at 30,000 meters. Calculating approximate burst altitudes can be accomplished with the High Altitude Science burst calculator linked below. As part of the R&D program for Acadia, we developed a balloon cutdown system to mitigate the uncertainty in burst altitude. This way, we can much more accurately plan flight and increase the odds of recovering the payload. The longer the flight, the more deviation is likely from the planned path. \n",
    " \n",
    " \n",
    " \n",
    " - Ascent/descent rates: These values are critical to finding how fast the balloon/parachute/payload combination will rise and fall in the atmosphere. This depends on a series of factors, including balloon mass and parachute size, the volume of helium added to the balloon as well as the mass of the payload. Again, the High Altitude Science burst calculator carries out most of these calculations for us. The values we are most concerned about are normalized for \"sea level rates\", since the actual ascent/descent rates will vary by altitude as the atmospheric density changes and the balloon expands. The exact volume of helium added is difficult to measure, so \"neck weight\" or \"positive lift\" is measured on the ground with a force meter while helium is added, to get to the desired lift value.\n",
    " \n",
    " \n",
    " - Launch/landing location: Planning a good launch location is critical to the flight. Generally speaking, it is advisable to launch from relatively closeby to where participants live, since driving for hours can decrease morale. The best launch locations tend to be public parks or sports fields. Since landing locations and vary widely, it is advisable to plan for a landing in a less-densely-wooded area, since there is always the possibility of the payload getting caught up in a tree (as has happened before to the Bates HABC). Therefore, planning a landing in an area with a fair amount of open space (farmland) is ideal. "
   ]
  },
  {
   "cell_type": "markdown",
   "metadata": {},
   "source": [
    "### Launch planning tools\n",
    "\n",
    "The two most useful tools for the planning process are the [Balloon Performance Calculator](http://tools.highaltitudescience.com/#) and the [CUSF Landing Predictor](https://predict.habhub.org/). Using these tools properly is a multistep process which should occur throughout the build/prep phase:\n",
    "\n",
    "1. Accurately measure the mass of the payload. This should include the parachute, antennas, radar reflectors, all rigging, and the payload container itself. This is a critical step to accurately planning the flight path.\n",
    "\n",
    "2. Use the measured mass value as well as the balloon mass (we will mostly be using 1200g balloons) on the [Balloon Performance Calculator](http://tools.highaltitudescience.com/#) to tweak ascent/descent rates for the flight. This is to get an idea of how much Helium you will need. Also, it is important to find the approximate descent rate given your payload mass by looking at the product page for the parachute. \n",
    "![Sample Table for parachute performance](images/ChuteTable.png)\n",
    "\n",
    "3. Use these values in the [CUSF Landing Predictor](https://predict.habhub.org/) as well as a launch location to get an idea of the flight path. "
   ]
  },
  {
   "cell_type": "code",
   "execution_count": 3,
   "metadata": {},
   "outputs": [],
   "source": [
    "import numpy as np\n",
    "import matplotlib.pyplot as plt\n",
    "\n",
    "\n",
    "flightPath = np.genfromtxt ('flight_path.csv', delimiter=\",\")\n",
    "    "
   ]
  },
  {
   "cell_type": "code",
   "execution_count": null,
   "metadata": {},
   "outputs": [],
   "source": []
  }
 ],
 "metadata": {
  "kernelspec": {
   "display_name": "Python 3",
   "language": "python",
   "name": "python3"
  },
  "language_info": {
   "codemirror_mode": {
    "name": "ipython",
    "version": 3
   },
   "file_extension": ".py",
   "mimetype": "text/x-python",
   "name": "python",
   "nbconvert_exporter": "python",
   "pygments_lexer": "ipython3",
   "version": "3.7.4"
  }
 },
 "nbformat": 4,
 "nbformat_minor": 2
}
